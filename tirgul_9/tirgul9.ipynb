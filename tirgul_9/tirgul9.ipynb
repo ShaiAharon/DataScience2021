{
 "cells": [
  {
   "cell_type": "markdown",
   "metadata": {},
   "source": [
    "# Tirgul 9 - a sample project analysis"
   ]
  },
  {
   "cell_type": "markdown",
   "metadata": {},
   "source": [
    "According to EDA (Exploratory data analysis) & modeling steps:\n",
    "\n",
    "- Wrangling the data\n",
    "- Understanding the data \n",
    "- Preparing the data\n",
    "- Modeling\n"
   ]
  },
  {
   "cell_type": "code",
   "execution_count": null,
   "metadata": {},
   "outputs": [],
   "source": [
    "import pandas as pd\n",
    "import numpy as np\n",
    "import matplotlib.pyplot as plt\n",
    "import seaborn as sns\n",
    "from sklearn.model_selection import train_test_split\n",
    "from sklearn.tree import DecisionTreeRegressor\n",
    "from sklearn.metrics import mean_squared_error\n",
    "plt.rcParams['figure.figsize'] = [12, 8]"
   ]
  },
  {
   "cell_type": "markdown",
   "metadata": {},
   "source": [
    "#### The Dataset\n",
    "The dataset contains information on students and their grades in math, reading and writing.\n",
    "[link to the data source](https://www.kaggle.com/spscientist/students-performance-in-exams)\n",
    "\n",
    "We read the data from a github repository"
   ]
  },
  {
   "cell_type": "code",
   "execution_count": null,
   "metadata": {},
   "outputs": [],
   "source": [
    "url = 'https://raw.githubusercontent.com/ShaiYona/Data-Science2021B/main/tirgulim/tirgul9/StudentsPerformance.csv'\n",
    "data = pd.read_csv(url)\n",
    "data.tail()"
   ]
  },
  {
   "cell_type": "markdown",
   "metadata": {},
   "source": [
    "## 1. Wrangling the data:\n",
    "\n",
    "- Treat missing values (if needed)\n",
    "- Treat column names (if needed)\n",
    "- Treat data types (if needed)\n",
    "- Treat any other weird thing your data might have\n",
    "\n",
    "### Treat missing values\n",
    "\n",
    "Check if there are missing values:"
   ]
  },
  {
   "cell_type": "code",
   "execution_count": null,
   "metadata": {},
   "outputs": [],
   "source": [
    "data.isnull().sum().sort_values(ascending=False)"
   ]
  },
  {
   "cell_type": "markdown",
   "metadata": {},
   "source": [
    "Apearantly there weren't any _null's_ in the data"
   ]
  },
  {
   "cell_type": "markdown",
   "metadata": {},
   "source": [
    "### Fixing data types\n",
    "Check if any of the data types need to be fixed:"
   ]
  },
  {
   "cell_type": "code",
   "execution_count": null,
   "metadata": {},
   "outputs": [],
   "source": [
    "data.dtypes"
   ]
  },
  {
   "cell_type": "markdown",
   "metadata": {},
   "source": [
    "We can:\n",
    "- change 'gender' to be binary\n",
    "- race/ethnicity to be cat.codes\n",
    "- lunch to be binary\n",
    "- test preparation course to be binary\n",
    "\n",
    "We'll leave them as objects for now, but might change them later, depending on what we will want to do"
   ]
  },
  {
   "cell_type": "markdown",
   "metadata": {},
   "source": [
    "## 2. Understanding the data\n",
    "\n",
    "Let's see a summary in a pivot table (note that the default is 'mean'):"
   ]
  },
  {
   "cell_type": "code",
   "execution_count": null,
   "metadata": {},
   "outputs": [],
   "source": [
    "data.pivot_table(['math score','reading score','writing score' ],'gender') "
   ]
  },
  {
   "cell_type": "markdown",
   "metadata": {},
   "source": [
    "- Looks like the male students are leading in Math, but are behind on Reading and Writing\n",
    "- How many males and how many females?"
   ]
  },
  {
   "cell_type": "code",
   "execution_count": null,
   "metadata": {},
   "outputs": [],
   "source": [
    "data['gender'].value_counts()"
   ]
  },
  {
   "cell_type": "markdown",
   "metadata": {},
   "source": [
    "### Now in a Pie-Chart"
   ]
  },
  {
   "cell_type": "code",
   "execution_count": null,
   "metadata": {},
   "outputs": [],
   "source": [
    "data['gender'].value_counts().plot.pie(autopct='%1.1f%%')"
   ]
  },
  {
   "cell_type": "markdown",
   "metadata": {},
   "source": [
    "## Lets study the differences between males and females:\n"
   ]
  },
  {
   "cell_type": "markdown",
   "metadata": {},
   "source": [
    "Seperate into two datasets:"
   ]
  },
  {
   "cell_type": "code",
   "execution_count": null,
   "metadata": {},
   "outputs": [],
   "source": [
    "female = data.loc[data.gender == 'female']\n",
    "male = data.loc[data.gender == 'male']\n",
    "male.head()"
   ]
  },
  {
   "cell_type": "code",
   "execution_count": null,
   "metadata": {},
   "outputs": [],
   "source": [
    "plt.hist(male['math score'], alpha=0.4, label='male')\n",
    "plt.hist(female['math score'], alpha=0.4, label='female')\n",
    "plt.legend(loc='upper right')\n"
   ]
  },
  {
   "cell_type": "code",
   "execution_count": null,
   "metadata": {},
   "outputs": [],
   "source": [
    "plt.hist(male['reading score'], alpha=0.4, label='male')\n",
    "plt.hist(female['reading score'], alpha=0.4, label='female')\n",
    "plt.legend(loc='upper right')\n"
   ]
  },
  {
   "cell_type": "code",
   "execution_count": null,
   "metadata": {},
   "outputs": [],
   "source": [
    "plt.hist(male['writing score'], alpha=0.4, label='male')\n",
    "plt.hist(female['writing score'], alpha=0.4, label='female')\n",
    "plt.legend(loc='upper right')"
   ]
  },
  {
   "cell_type": "markdown",
   "metadata": {},
   "source": [
    "We can see that male students tend to have a smaller variance then the female students."
   ]
  },
  {
   "cell_type": "markdown",
   "metadata": {},
   "source": [
    "Let's calculate the standard deviation and the range of scores"
   ]
  },
  {
   "cell_type": "code",
   "execution_count": null,
   "metadata": {},
   "outputs": [],
   "source": [
    "data.groupby('gender').std()"
   ]
  },
  {
   "cell_type": "markdown",
   "metadata": {},
   "source": [
    "### Correlation between scores"
   ]
  },
  {
   "cell_type": "code",
   "execution_count": null,
   "metadata": {},
   "outputs": [],
   "source": [
    "scoreData = data[['math score','reading score','writing score']]\n",
    "scoreData.tail()"
   ]
  },
  {
   "cell_type": "code",
   "execution_count": null,
   "metadata": {},
   "outputs": [],
   "source": [
    "scoreData.corr()"
   ]
  },
  {
   "cell_type": "code",
   "execution_count": null,
   "metadata": {},
   "outputs": [],
   "source": [
    "# cmap='jet' refers to table colors\n",
    "# vmin=0.0 , vmax = 1 indicate the lower and upper bounderies of legend \n",
    "# Correlation is between -1 and 1, but here all the correlation is positive, so I can set\n",
    "#   the vmin to be 0\n",
    "# annot=True display the value of each square\n",
    "sns.heatmap(scoreData.corr(), vmin=0.0 , vmax = 1,cmap='jet' , annot=True)"
   ]
  },
  {
   "cell_type": "markdown",
   "metadata": {},
   "source": [
    "##### Obeservation: \n",
    ">\n",
    "> The corrolation across subjects is quite high, between reading and writing is near perfect.\n",
    ">"
   ]
  },
  {
   "cell_type": "code",
   "execution_count": null,
   "metadata": {},
   "outputs": [],
   "source": [
    "sns.regplot(x='reading score', y='writing score', data=data);"
   ]
  },
  {
   "cell_type": "markdown",
   "metadata": {},
   "source": [
    "> Decreased correlation displays a higher spread"
   ]
  },
  {
   "cell_type": "code",
   "execution_count": null,
   "metadata": {},
   "outputs": [],
   "source": [
    "sns.regplot(x='reading score', y='math score', data=data);\n",
    "# "
   ]
  },
  {
   "cell_type": "markdown",
   "metadata": {},
   "source": [
    "### Looking at parnetal level of education"
   ]
  },
  {
   "cell_type": "code",
   "execution_count": null,
   "metadata": {},
   "outputs": [],
   "source": [
    "parentEducData = data[[\"parental level of education\"]]\n",
    "parentEducData.tail()"
   ]
  },
  {
   "cell_type": "code",
   "execution_count": null,
   "metadata": {},
   "outputs": [],
   "source": [
    "parentEducData.value_counts() # counts the amount from each categorized value"
   ]
  },
  {
   "cell_type": "markdown",
   "metadata": {},
   "source": [
    "\n",
    "[pie charts docs](https://pandas.pydata.org/docs/reference/api/pandas.DataFrame.plot.pie.html)"
   ]
  },
  {
   "cell_type": "code",
   "execution_count": null,
   "metadata": {},
   "outputs": [],
   "source": [
    "# autopct display percents for each part\n",
    "parentEducData.value_counts().plot.pie(autopct='%1.1f%%')"
   ]
  },
  {
   "cell_type": "code",
   "execution_count": null,
   "metadata": {},
   "outputs": [],
   "source": [
    "sns.countplot(x=\"parental level of education\", data=data)"
   ]
  },
  {
   "cell_type": "markdown",
   "metadata": {},
   "source": [
    "---\n",
    "#### Project *Pro* tip: When there are more than 2-3 categories, a countplot is ALWAYS BETTER than a pie plot\n",
    "\n",
    "It's just much easier to read it.\n",
    "\n",
    "The only problem with our countplot is that the labels ovelap. There are many ways to fix it. \n",
    "\n",
    "Google it. [for example](https://stackoverflow.com/questions/42528921/how-to-prevent-overlapping-x-axis-labels-in-sns-countplot)\n",
    "\n",
    "Example of how it could go wrong:\n",
    "\n",
    "---"
   ]
  },
  {
   "cell_type": "code",
   "execution_count": null,
   "metadata": {},
   "outputs": [],
   "source": [
    "plt.figure(figsize=(4,6)) \n",
    "sns.countplot(x=\"parental level of education\", data=data)"
   ]
  },
  {
   "cell_type": "markdown",
   "metadata": {},
   "source": [
    "---\n",
    "\n",
    "#### Project *Pro* tip: make sure your plots are readable (like we have just done).\n",
    "You don't need to show both the unreadable version and the readable version. We know you have worked hard and struggled. Present your best!!\n",
    "\n",
    "---"
   ]
  },
  {
   "cell_type": "markdown",
   "metadata": {},
   "source": [
    "#### Searching for more correlations"
   ]
  },
  {
   "cell_type": "markdown",
   "metadata": {},
   "source": [
    "Let's add a column with the mean score across all subjects:\n",
    "\n",
    "_It's not cheating if the it can be deduced from the data_"
   ]
  },
  {
   "cell_type": "code",
   "execution_count": null,
   "metadata": {},
   "outputs": [],
   "source": [
    "data['mean score'] = scoreData.mean(axis=1)\n",
    "data.tail()"
   ]
  },
  {
   "cell_type": "markdown",
   "metadata": {},
   "source": [
    "Let's check - is there any connection between parental level of education and lunch to grades?"
   ]
  },
  {
   "cell_type": "code",
   "execution_count": null,
   "metadata": {},
   "outputs": [],
   "source": [
    "EducLunchMean_ScoreData = data[['parental level of education','lunch','mean score']].copy(deep=True) # not shallow/reference copy, change in data will not be affected in EducLucnh<ean\n",
    "EducLunchMean_ScoreData.tail()"
   ]
  },
  {
   "cell_type": "code",
   "execution_count": null,
   "metadata": {},
   "outputs": [],
   "source": [
    "EducLunchMean_ScoreData.pivot_table('mean score','parental level of education').sort_values(\"mean score\")"
   ]
  },
  {
   "cell_type": "markdown",
   "metadata": {},
   "source": [
    "##### Don't present in an incomprehensible way.\n",
    "##### For example (of what NOT to do):"
   ]
  },
  {
   "cell_type": "code",
   "execution_count": null,
   "metadata": {},
   "outputs": [],
   "source": [
    "EducLunchMean_ScoreData.groupby('parental level of education')['mean score'].hist(alpha=0.5,legend=True,figsize=(10,10))\n",
    "# We cannot use 'pivot_table' here since we do not wish to aggregate the data"
   ]
  },
  {
   "cell_type": "markdown",
   "metadata": {},
   "source": [
    "#### The connection bewtween lunch and student's mean score:"
   ]
  },
  {
   "cell_type": "code",
   "execution_count": null,
   "metadata": {},
   "outputs": [],
   "source": [
    "EducLunchMean_ScoreData.pivot_table('mean score','lunch')"
   ]
  },
  {
   "cell_type": "markdown",
   "metadata": {},
   "source": [
    "We can see some connection here"
   ]
  },
  {
   "cell_type": "code",
   "execution_count": null,
   "metadata": {},
   "outputs": [],
   "source": [
    "EducLunchMean_ScoreData.groupby('lunch')['mean score'].hist(alpha=0.5,legend=True)"
   ]
  },
  {
   "cell_type": "markdown",
   "metadata": {},
   "source": [
    "##### Observation:\n",
    "> The lunch type tells us more about the student grades.\n",
    "> Students with a standard lunch do better.\n",
    "> This may say more about the studen't background then about their real abilites"
   ]
  },
  {
   "cell_type": "markdown",
   "metadata": {},
   "source": [
    "#### The connection between parent education level and lunch type:\n",
    "\n",
    "Turn the lunch into a category"
   ]
  },
  {
   "cell_type": "markdown",
   "metadata": {},
   "source": [
    "- Standard = 1\n",
    "- free/reduced = 0"
   ]
  },
  {
   "cell_type": "code",
   "execution_count": null,
   "metadata": {},
   "outputs": [],
   "source": [
    "EducLunchMean_ScoreData['lunch_cat'] = EducLunchMean_ScoreData['lunch'].astype('category').cat.codes\n",
    "EducLunchMean_ScoreData"
   ]
  },
  {
   "cell_type": "code",
   "execution_count": null,
   "metadata": {},
   "outputs": [],
   "source": [
    "ptLunchEduc = EducLunchMean_ScoreData.pivot_table('lunch_cat','parental level of education').sort_values(by='lunch_cat')\n",
    "ptLunchEduc"
   ]
  },
  {
   "cell_type": "code",
   "execution_count": null,
   "metadata": {},
   "outputs": [],
   "source": [
    "v_min = ptLunchEduc['lunch_cat'].min()*.99\n",
    "v_max = ptLunchEduc['lunch_cat'].max()*1.01\n",
    "\n",
    "sns.barplot(x=ptLunchEduc.index,y=ptLunchEduc['lunch_cat'])\n",
    "plt.ylim(v_min,v_max)"
   ]
  },
  {
   "cell_type": "markdown",
   "metadata": {},
   "source": [
    "> ##### Observation:\n",
    "> It is interesting to see, that the lunch type is spread more or less equaly between the parent education levels. \n",
    "> Superficially, if lunch represents parents financial level, it was not affected by their education.\n",
    "\n",
    "\n",
    "##### Project tip:\n",
    "An observation is always better if it is also visual\n"
   ]
  },
  {
   "cell_type": "code",
   "execution_count": null,
   "metadata": {},
   "outputs": [],
   "source": [
    "# We manually orderd the plot according to the degrees\n",
    "order = [5,2,4,3,1,0]\n",
    "plt.figure(figsize=(10,5))\n",
    "plt.scatter(ptLunchEduc.index[order],ptLunchEduc.values[order])\n",
    "plt.ylim(0.5,.7)"
   ]
  },
  {
   "cell_type": "markdown",
   "metadata": {},
   "source": [
    "#### The connection between parents education level and mean score:\n",
    "\n"
   ]
  },
  {
   "cell_type": "markdown",
   "metadata": {},
   "source": [
    "The mean score grouped by parent's education:"
   ]
  },
  {
   "cell_type": "code",
   "execution_count": null,
   "metadata": {},
   "outputs": [],
   "source": [
    "mean_parent = EducLunchMean_ScoreData.groupby('parental level of education')['mean score'].mean()\n",
    "mean_parent\n"
   ]
  },
  {
   "cell_type": "markdown",
   "metadata": {},
   "source": [
    "In a scatter plot:"
   ]
  },
  {
   "cell_type": "code",
   "execution_count": null,
   "metadata": {},
   "outputs": [],
   "source": [
    "# We manually orderd the plot according to the degrees\n",
    "order = [5,2,4,0,1,3]\n",
    "plt.figure(figsize=(10,5))\n",
    "plt.scatter(mean_parent.index[order],mean_parent.values[order])\n"
   ]
  },
  {
   "cell_type": "markdown",
   "metadata": {},
   "source": [
    "##### Project tip: \n",
    "Think of which figure will present your data in the best way\n",
    "\n",
    "In this case - a boxplot is better than a scatter plot"
   ]
  },
  {
   "cell_type": "markdown",
   "metadata": {},
   "source": [
    "Present a boxplot, with rotated labels on x-axis"
   ]
  },
  {
   "cell_type": "code",
   "execution_count": null,
   "metadata": {},
   "outputs": [],
   "source": [
    "fig, axes = plt.subplots(figsize=(20, 5), ncols=3)\n",
    "sns.boxplot(ax=axes[0], x='parental level of education', y='reading score', data=data)\n",
    "sns.boxplot(ax=axes[1], x='parental level of education', y='writing score', data=data)\n",
    "sns.boxplot(ax=axes[2], x='parental level of education', y='math score', data=data)\n",
    "for i, ax in enumerate(fig.axes):\n",
    "    axes[i].tick_params(axis='x', rotation=45) # chage to y axis and -45 and see what happens\n",
    "#ax.set_xticklabels(ax.get_xticklabels(), rotation=40, ha=\"right\")\n",
    "plt.tight_layout()\n",
    "plt.show()"
   ]
  },
  {
   "cell_type": "markdown",
   "metadata": {},
   "source": [
    "##### Boxplot for mean score"
   ]
  },
  {
   "cell_type": "code",
   "execution_count": null,
   "metadata": {},
   "outputs": [],
   "source": [
    "ax = sns.boxplot(x='parental level of education', y='mean score', data=data)\n",
    "ax.set_xticklabels(ax.get_xticklabels(), rotation=40, ha=\"right\")\n",
    "plt.tight_layout()\n",
    "plt.show()"
   ]
  },
  {
   "cell_type": "markdown",
   "metadata": {},
   "source": [
    "#### The connection between education level and lunch type and mean score:\n",
    "\n",
    "The mean score grouped by parent's education: and student's mean score:"
   ]
  },
  {
   "cell_type": "code",
   "execution_count": null,
   "metadata": {},
   "outputs": [],
   "source": [
    "EducLunchMean_ScoreData.pivot_table('mean score','parental level of education','lunch',margins=True)"
   ]
  },
  {
   "cell_type": "markdown",
   "metadata": {},
   "source": [
    "\n",
    "\n",
    "- The bottom margin shows the score according to the lunch (free/standard)\n",
    "- The right margin shows the score according to the parents degree\n",
    "- The mean for students with standard lunch is 8.5 points higher!\n"
   ]
  },
  {
   "cell_type": "markdown",
   "metadata": {},
   "source": [
    "> ##### Observation:\n",
    "> The parent's education level does not have a direct effect on the lunch type. \n",
    ">\n",
    "> The parent's education level does not have a direct effect on the mean score. \n",
    ">\n",
    "> But - the parent's education  level combined with the lunch type has an effect on the mean score. "
   ]
  },
  {
   "cell_type": "markdown",
   "metadata": {},
   "source": [
    "## 3. Building a model from the data"
   ]
  },
  {
   "cell_type": "markdown",
   "metadata": {},
   "source": [
    "We will try to predict mean score using decision tree, based on gender, race and test preparation. "
   ]
  },
  {
   "cell_type": "markdown",
   "metadata": {},
   "source": [
    "#### Preparing the data for learning"
   ]
  },
  {
   "cell_type": "code",
   "execution_count": null,
   "metadata": {},
   "outputs": [],
   "source": [
    "X = pd.get_dummies(data[['gender','race/ethnicity','lunch','test preparation course']])\n",
    "y = data[['mean score']]\n",
    "\n",
    "X.head()"
   ]
  },
  {
   "cell_type": "markdown",
   "metadata": {},
   "source": [
    "##### Remove the reduntant fields"
   ]
  },
  {
   "cell_type": "code",
   "execution_count": null,
   "metadata": {},
   "outputs": [],
   "source": [
    "X = X.drop(columns=['gender_male','lunch_standard','test preparation course_none'])\n",
    "X.head()"
   ]
  },
  {
   "cell_type": "code",
   "execution_count": null,
   "metadata": {},
   "outputs": [],
   "source": [
    "X_train,X_test,y_train,y_test = train_test_split(X,y,test_size=0.3,random_state=42) \n",
    "y_test.head()"
   ]
  },
  {
   "cell_type": "code",
   "execution_count": null,
   "metadata": {},
   "outputs": [],
   "source": [
    "print(\"Train STD of {}\".format(y_train.std()))\n",
    "print(\"Test STD of {}\".format(y_test.std()))\n"
   ]
  },
  {
   "cell_type": "markdown",
   "metadata": {},
   "source": [
    "##### Build the model"
   ]
  },
  {
   "cell_type": "code",
   "execution_count": null,
   "metadata": {},
   "outputs": [],
   "source": [
    "model = DecisionTreeRegressor(random_state=42)\n",
    "model.fit(X_train,y_train)"
   ]
  },
  {
   "cell_type": "markdown",
   "metadata": {},
   "source": [
    "##### Evaluation"
   ]
  },
  {
   "cell_type": "code",
   "execution_count": null,
   "metadata": {},
   "outputs": [],
   "source": [
    "def eval(x_test,y_test,model):\n",
    "    pred = model.predict(x_test)\n",
    "    print(\"MSE: {:.3f}\".format(mean_squared_error(pred,y_test,squared=False)))"
   ]
  },
  {
   "cell_type": "code",
   "execution_count": null,
   "metadata": {},
   "outputs": [],
   "source": [
    "eval(X_test,y_test,model)"
   ]
  },
  {
   "cell_type": "markdown",
   "metadata": {},
   "source": [
    "##### Plot the tree\n",
    "[plot_tree docs](https://scikit-learn.org/stable/modules/generated/sklearn.tree.plot_tree.html)"
   ]
  },
  {
   "cell_type": "markdown",
   "metadata": {},
   "source": [
    "Write a function that plots the tree"
   ]
  },
  {
   "cell_type": "code",
   "execution_count": null,
   "metadata": {},
   "outputs": [],
   "source": [
    "import sklearn.tree as tree\n",
    "def plot_tree(tree_model,feat,size=(15,10)):\n",
    "    fig = plt.figure(figsize=size)\n",
    "    tree.plot_tree(tree_model, \n",
    "                   feature_names = feat, \n",
    "                   filled=True,\n",
    "                  fontsize=15)  \n",
    "    plt.show()"
   ]
  },
  {
   "cell_type": "markdown",
   "metadata": {},
   "source": [
    "##### Tree Pruning"
   ]
  },
  {
   "cell_type": "code",
   "execution_count": null,
   "metadata": {},
   "outputs": [],
   "source": [
    "model = DecisionTreeRegressor(max_depth=3,random_state=42)\n",
    "model.fit(X_train,y_train)\n",
    "\n",
    "eval(X_test,y_test,model)\n",
    "plot_tree(model,X_test.columns,size=(30,20))"
   ]
  },
  {
   "cell_type": "code",
   "execution_count": null,
   "metadata": {},
   "outputs": [],
   "source": [
    "model = DecisionTreeRegressor(min_samples_split=100,random_state=42)\n",
    "model.fit(X_train,y_train)\n",
    "\n",
    "eval(X_test,y_test,model)\n",
    "plot_tree(model,X_test.columns,size=(60,20))"
   ]
  },
  {
   "cell_type": "code",
   "execution_count": null,
   "metadata": {},
   "outputs": [],
   "source": [
    "from sklearn.ensemble import RandomForestRegressor\n",
    "model = RandomForestRegressor(n_estimators=10000,max_depth=4,max_samples=100,random_state=42)\n",
    "# RandomForestRegressor  fits a number of classifying decision trees \n",
    "# n_estimators is the numbers of trees to be used in the forest\n",
    "\n",
    "model.fit(X_train,y_train.values.ravel())\n",
    "eval(X_test,y_test,model)"
   ]
  },
  {
   "cell_type": "markdown",
   "metadata": {},
   "source": [
    "#### Let's check the error percentage\n",
    "### The fraction of difference a-b from b is:\n",
    "# $\\frac{|a-b|}{b} $"
   ]
  },
  {
   "cell_type": "code",
   "execution_count": null,
   "metadata": {},
   "outputs": [],
   "source": [
    "pred=model.predict(X_test)\n",
    "(np.abs(pred-y_test.values.ravel())/y_test.values.ravel()).mean()"
   ]
  }
 ],
 "metadata": {
  "kernelspec": {
   "display_name": "Python 3",
   "language": "python",
   "name": "python3"
  },
  "language_info": {
   "codemirror_mode": {
    "name": "ipython",
    "version": 3
   },
   "file_extension": ".py",
   "mimetype": "text/x-python",
   "name": "python",
   "nbconvert_exporter": "python",
   "pygments_lexer": "ipython3",
   "version": "3.7.5"
  }
 },
 "nbformat": 4,
 "nbformat_minor": 4
}
