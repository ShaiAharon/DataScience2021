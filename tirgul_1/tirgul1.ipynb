{
 "cells": [
  {
   "cell_type": "markdown",
   "metadata": {},
   "source": [
    "# Data Science, Tirgul 1\n",
    "## Smaller"
   ]
  },
  {
   "cell_type": "markdown",
   "metadata": {},
   "source": [
    "### Great python numpy tutorials  in Jupyter lab:\n",
    "[Link to Jupyter Lab Tutorials](https://www.youtube.com/watch?v=7wfPqAyYADY&list=PLcD0MjpSMpGRoZgeb509_yICnabm4PYqc)"
   ]
  },
  {
   "cell_type": "markdown",
   "metadata": {},
   "source": [
    "# Hebrew tutorial for Jupyter Notebook (the old version before Jupyter Lab)\n",
    "[Link](https://www.youtube.com/watch?v=g9EglM7Ymns)"
   ]
  },
  {
   "cell_type": "markdown",
   "metadata": {},
   "source": [
    "# Installation instructions:\n",
    "# https://www.youtube.com/watch?v=uOwCiZKj2rg\n",
    "    "
   ]
  },
  {
   "cell_type": "markdown",
   "metadata": {},
   "source": [
    "# Data sciene income:\n",
    "\n",
    "+ [Nisha](https://www.nisha.co.il/%D7%98%D7%91%D7%9C%D7%90%D7%95%D7%AA-%D7%A9%D7%9B%D7%A8)\n",
    "+ [All Jobs](https://www.alljobs.co.il/User/SalaryCompound/position/?JobCategoryID=1733)"
   ]
  },
  {
   "cell_type": "markdown",
   "metadata": {},
   "source": [
    "# Same Python commands work here too.."
   ]
  },
  {
   "cell_type": "code",
   "execution_count": 2,
   "metadata": {},
   "outputs": [
    {
     "name": "stdout",
     "output_type": "stream",
     "text": [
      "Hello Jupyter Lab\n"
     ]
    }
   ],
   "source": [
    "print(\"Hello Jupyter Lab\")"
   ]
  },
  {
   "cell_type": "markdown",
   "metadata": {},
   "source": [
    "# Jupiter Lab keyboard shortcuts\n",
    "### https://gist.github.com/discdiver/9e00618756d120a8c9fa344ac1c375ac\n",
    "\n",
    "#### Keyboard shotrctus greatly increase productivity, here are some commons:\n",
    "+ note there are modes: Command mode (outside the cells) and edit mode (inside a cell)\n",
    "+ Edit mode -> command mode: Esc\n",
    "+ Command mode ->  edit mode: Enter\n",
    "+ Toggle hide/show left sidebar: Ctrl+B\n",
    "+ toggle comment: Ctrl + / \n",
    "+ Indent: Ctrl + ]  \n",
    "+ Dedent: Ctrl + ["
   ]
  },
  {
   "cell_type": "markdown",
   "metadata": {},
   "source": [
    "# Jupiter lab has a markdown \\ code option mode.\n",
    "# (Header 1, title)\n",
    "## (Header 2, major headings)\n",
    "### (Header 3, subheadings)\n",
    "#### (Header 4)\n",
    "##### (Header 5)\n",
    "###### (Header 6)"
   ]
  },
  {
   "cell_type": "markdown",
   "metadata": {},
   "source": [
    "## Markdown Cheat-sheet\n",
    "[Link](https://github.com/adam-p/markdown-here/wiki/Markdown-Cheatsheet)"
   ]
  },
  {
   "cell_type": "markdown",
   "metadata": {},
   "source": [
    "## Using LaTex equations in Jupyter\n",
    "$ x^2 + y^2 = z^2 $"
   ]
  },
  {
   "cell_type": "code",
   "execution_count": null,
   "metadata": {},
   "outputs": [],
   "source": [
    "# cmd view point denoted by ! sign\n",
    "!pip install pandas \n",
    "\n",
    "# Needs to be done only once"
   ]
  },
  {
   "cell_type": "code",
   "execution_count": null,
   "metadata": {},
   "outputs": [],
   "source": [
    "# Read file using pandas\n",
    "# Pandas is a fast, powerful, flexible and easy to use open-source data analysis in python\n",
    "\n",
    "import pandas as pd\n",
    "data = pd.read_csv('titanic_short.csv')\n",
    "data"
   ]
  },
  {
   "cell_type": "markdown",
   "metadata": {},
   "source": [
    "## Self excercise: Suggest how to display only survivors (denoted in 1)"
   ]
  },
  {
   "cell_type": "code",
   "execution_count": null,
   "metadata": {},
   "outputs": [],
   "source": [
    "data[data['survived'] == 1]"
   ]
  },
  {
   "cell_type": "markdown",
   "metadata": {},
   "source": [
    "## Self excercise: Suggest how to display only females gender"
   ]
  },
  {
   "cell_type": "code",
   "execution_count": null,
   "metadata": {},
   "outputs": [],
   "source": [
    "data[data['sex']=='female']"
   ]
  },
  {
   "cell_type": "markdown",
   "metadata": {},
   "source": [
    "## Self excercise: Suggest how to display only females survivors"
   ]
  },
  {
   "cell_type": "code",
   "execution_count": null,
   "metadata": {},
   "outputs": [],
   "source": [
    "d = data[(data['survived'] == 1) & (data['sex']=='female')]\n",
    "d[['pclass','age']]"
   ]
  },
  {
   "cell_type": "markdown",
   "metadata": {},
   "source": [
    "### Display some of the collumns"
   ]
  },
  {
   "cell_type": "markdown",
   "metadata": {},
   "source": [
    "Emphasis, aka italics, with *asterisks* or _underscores_.\n",
    "\n",
    "Strong emphasis, aka bold, with **asterisks** or __underscores__.\n",
    "\n",
    "Combined emphasis with **asterisks and _underscores_**.\n",
    "\n",
    "Strikethrough uses two tildes. ~~Scratch this.~~"
   ]
  },
  {
   "cell_type": "code",
   "execution_count": null,
   "metadata": {},
   "outputs": [],
   "source": [
    "data[ [ 'pclass','age'] ] "
   ]
  },
  {
   "cell_type": "code",
   "execution_count": null,
   "metadata": {},
   "outputs": [],
   "source": [
    "!pip install numpy\n",
    "import numpy as np\n",
    "arr = np.array([1, 2, 3, 4, 5])\n",
    "# . product\n",
    "print(arr*arr)"
   ]
  },
  {
   "cell_type": "code",
   "execution_count": null,
   "metadata": {},
   "outputs": [],
   "source": [
    "#### vector multiplication\n",
    "print(\"arr.dot(arr) =\\n\",arr.dot(arr))\n",
    "# or by \n",
    "print(\"arr@arr =\\n\",arr@arr)"
   ]
  }
 ],
 "metadata": {
  "kernelspec": {
   "display_name": "Python 3",
   "language": "python",
   "name": "python3"
  },
  "language_info": {
   "codemirror_mode": {
    "name": "ipython",
    "version": 3
   },
   "file_extension": ".py",
   "mimetype": "text/x-python",
   "name": "python",
   "nbconvert_exporter": "python",
   "pygments_lexer": "ipython3",
   "version": "3.7.4"
  }
 },
 "nbformat": 4,
 "nbformat_minor": 4
}
